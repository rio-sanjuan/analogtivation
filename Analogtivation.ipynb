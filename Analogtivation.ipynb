{
 "cells": [
  {
   "cell_type": "markdown",
   "metadata": {},
   "source": [
    "## Analogtivation"
   ]
  },
  {
   "cell_type": "code",
   "execution_count": 34,
   "metadata": {},
   "outputs": [],
   "source": [
    "import keras\n",
    "from keras import backend as K\n",
    "import matplotlib.pyplot as plt\n",
    "\n",
    "import numpy as np\n",
    "import time\n",
    "from time import gmtime, strftime\n",
    "from math import tan, radians"
   ]
  },
  {
   "cell_type": "markdown",
   "metadata": {},
   "source": [
    "### Building a clock"
   ]
  },
  {
   "cell_type": "code",
   "execution_count": 167,
   "metadata": {},
   "outputs": [
    {
     "name": "stdout",
     "output_type": "stream",
     "text": [
      "Current Time: 17:13:13\n"
     ]
    },
    {
     "data": {
      "image/png": "[encoded data removed]",
      "text/plain": [
       "<matplotlib.figure.Figure at 0x135d49fd0>"
      ]
     },
     "metadata": {},
     "output_type": "display_data"
    }
   ],
   "source": [
    "current_time = gmtime()\n",
    "    \n",
    "hour   = int(strftime(\"%H\", current_time))\n",
    "minute = int(strftime(\"%M\", current_time))\n",
    "second = int(strftime(\"%S\", current_time))\n",
    "    \n",
    "# clock starts at 12 (90 degrees) and moves clock-wise\n",
    "def to_clock_angle(theta):\n",
    "    return -1 * (theta - 90)\n",
    "    \n",
    "exact_hour   = hour%12 + minute/60 + second/(60*60)\n",
    "exact_minute = minute  + second/60\n",
    "    \n",
    "short_hand_angle = to_clock_angle(360 * exact_hour/12)\n",
    "long_hand_angle  = to_clock_angle(360 * exact_minute/60)\n",
    "\n",
    "# hand of clock is linear function where slope is equal to tan(angle)\n",
    "def short_hand(x):\n",
    "    return tan(radians(short_hand_angle)) * x\n",
    "def long_hand(x):\n",
    "    return tan(radians(long_hand_angle)) * x\n",
    "\n",
    "# plot clock\n",
    "x_neg = np.linspace(-1, 0, 2)\n",
    "x_pos = np.linspace(0,  1, 2)\n",
    "\n",
    "print(\"Current Time: {}:{}:{}\".format(hour, minute, second))\n",
    "plt.figure(figsize=(5, 5)) \n",
    "plt.plot(x_pos             * (exact_hour   < 6.0)  + x_neg             * (exact_hour   >= 6.0), \n",
    "         short_hand(x_pos) * (exact_hour   < 6.0)  + short_hand(x_neg) * (exact_hour   >= 6.0),  \n",
    "         label = \"short hand\", linewidth = 2, color = \"blue\")\n",
    "plt.plot(x_pos             * (exact_minute < 30.0) + x_neg             * (exact_minute >= 30.0), \n",
    "         long_hand(x_pos)  * (exact_minute < 30.0) + long_hand(x_neg)  * (exact_minute >= 30.0), \n",
    "         label = \"long hand\",  linewidth = 3, color = \"red\")\n",
    "plt.xlim(-2, 2)\n",
    "plt.ylim(-2, 2)\n",
    "plt.legend()\n",
    "plt.show()"
   ]
  },
  {
   "cell_type": "markdown",
   "metadata": {},
   "source": [
    "### The activation function"
   ]
  },
  {
   "cell_type": "code",
   "execution_count": 165,
   "metadata": {},
   "outputs": [],
   "source": [
    "def my_activation(x):\n",
    "    \n",
    "    # get current time\n",
    "    global current_time\n",
    "    current_time = gmtime()\n",
    "    \n",
    "    hour   = int(strftime(\"%H\", current_time))\n",
    "    minute = int(strftime(\"%M\", current_time))\n",
    "    second = int(strftime(\"%S\", current_time))\n",
    "    \n",
    "    # clock hands\n",
    "    hour_hand_angle = (hour%12 + minute/60 + second/(60*60)) * 360/12\n",
    "    hour_hand = tan(radians(to_clock_angle(short_hand_angle)))\n",
    "    \n",
    "    minute_hand_angle  = (minute  + second/60) * 360/60\n",
    "    minute_hand  = tan(radians(to_clock_angle(long_hand_angle)))\n",
    "    \n",
    "    # which clock hand do I use?\n",
    "    above_threshold = minute_hand_angle * x * K.cast(x >= 0.0, \"float32\") # minute hand for positive\n",
    "    below_threshold = hour_hand_angle * x * K.cast(x < 0.0, \"float32\")    # hour hand for negative\n",
    "\n",
    "    return below_threshold + above_threshold"
   ]
  },
  {
   "cell_type": "markdown",
   "metadata": {},
   "source": [
    "### Build network"
   ]
  },
  {
   "cell_type": "code",
   "execution_count": 166,
   "metadata": {},
   "outputs": [
    {
     "name": "stdout",
     "output_type": "stream",
     "text": [
      "Tensor(\"dense_53/mul_1:0\", shape=(?, 32), dtype=float32)\n",
      "Tensor(\"dense_53/mul_3:0\", shape=(?, 32), dtype=float32)\n"
     ]
    }
   ],
   "source": [
    "# Load data\n",
    "(X_train, y_train), (X_test, y_test) = keras.datasets.mnist.load_data()\n",
    "\n",
    "X_train = X_train.reshape(60000, 28*28).astype('float32') / 255\n",
    "X_test  = X_test.reshape(10000, 28*28).astype('float32') / 255\n",
    "\n",
    "y_train = keras.utils.np_utils.to_categorical(y_train, 10)\n",
    "y_test  = keras.utils.np_utils.to_categorical(y_test, 10)\n",
    "\n",
    "# Build model\n",
    "model = keras.models.Sequential([\n",
    "    keras.layers.Dense(32, input_shape=(784,), activation = my_activation),\n",
    "    keras.layers.Dense(10, activation = 'softmax')\n",
    "])\n",
    "\n",
    "model.compile(loss = 'categorical_crossentropy', optimizer = 'nadam')"
   ]
  },
  {
   "cell_type": "markdown",
   "metadata": {},
   "source": [
    "### Train model"
   ]
  },
  {
   "cell_type": "code",
   "execution_count": 12,
   "metadata": {},
   "outputs": [
    {
     "name": "stderr",
     "output_type": "stream",
     "text": [
      "/Users/_Turing/anaconda/lib/python3.5/site-packages/ipykernel/__main__.py:3: UserWarning: The `nb_epoch` argument in `fit` has been renamed `epochs`.\n",
      "  app.launch_new_instance()\n"
     ]
    },
    {
     "name": "stdout",
     "output_type": "stream",
     "text": [
      "Train on 60000 samples, validate on 10000 samples\n",
      "Epoch 1/4\n",
      "60000/60000 [==============================] - 1s 16us/step - loss: 0.3753 - val_loss: 0.2163\n",
      "Epoch 2/4\n",
      "60000/60000 [==============================] - 1s 12us/step - loss: 0.1952 - val_loss: 0.1796\n",
      "Epoch 3/4\n",
      "60000/60000 [==============================] - 1s 13us/step - loss: 0.1539 - val_loss: 0.1471\n",
      "Epoch 4/4\n",
      "60000/60000 [==============================] - 1s 12us/step - loss: 0.1279 - val_loss: 0.1335\n"
     ]
    }
   ],
   "source": [
    "hist = model.fit(X_train, y_train, \n",
    "          batch_size = 128, nb_epoch = 4, \n",
    "          verbose = 1, validation_data = (X_test, y_test))"
   ]
  },
  {
   "cell_type": "code",
   "execution_count": null,
   "metadata": {},
   "outputs": [],
   "source": []
  }
 ],
 "metadata": {
  "kernelspec": {
   "display_name": "Python 3",
   "language": "python",
   "name": "python3"
  },
  "language_info": {
   "codemirror_mode": {
    "name": "ipython",
    "version": 3
   },
   "file_extension": ".py",
   "mimetype": "text/x-python",
   "name": "python",
   "nbconvert_exporter": "python",
   "pygments_lexer": "ipython3",
   "version": "3.5.2"
  }
 },
 "nbformat": 4,
 "nbformat_minor": 2
}
