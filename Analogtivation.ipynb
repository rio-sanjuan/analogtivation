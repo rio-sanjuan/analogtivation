{
 "cells": [
  {
   "cell_type": "markdown",
   "metadata": {},
   "source": [
    "## Analogtivation"
   ]
  },
  {
   "cell_type": "code",
   "execution_count": 1,
   "metadata": {},
   "outputs": [
    {
     "name": "stderr",
     "output_type": "stream",
     "text": [
      "Using TensorFlow backend.\n",
      "/Users/_Turing/anaconda/lib/python3.5/importlib/_bootstrap.py:222: RuntimeWarning: compiletime version 3.6 of module 'tensorflow.python.framework.fast_tensor_util' does not match runtime version 3.5\n",
      "  return f(*args, **kwds)\n"
     ]
    }
   ],
   "source": [
    "import keras\n",
    "from keras import backend as K\n",
    "import tensorflow as tf\n",
    "import matplotlib.pyplot as plt\n",
    "\n",
    "import pandas as pd\n",
    "import numpy as np\n",
    "\n",
    "import time\n",
    "from time import gmtime, strftime\n",
    "\n",
    "from math import tan, radians\n",
    "import random\n",
    "import json"
   ]
  },
  {
   "cell_type": "code",
   "execution_count": 2,
   "metadata": {},
   "outputs": [],
   "source": [
    "# set seeds\n",
    "seed_value = 42\n",
    "\n",
    "random.seed(seed_value)\n",
    "np.random.seed(seed_value)\n",
    "tf.set_random_seed(seed_value)"
   ]
  },
  {
   "cell_type": "markdown",
   "metadata": {},
   "source": [
    "### Building a clock"
   ]
  },
  {
   "cell_type": "code",
   "execution_count": 3,
   "metadata": {},
   "outputs": [
    {
     "name": "stdout",
     "output_type": "stream",
     "text": [
      "Current Time: 18:16:25\n"
     ]
    },
    {
     "data": {
      "image/png": "[encoded data removed]",
      "text/plain": [
       "<matplotlib.figure.Figure at 0x123293b00>"
      ]
     },
     "metadata": {},
     "output_type": "display_data"
    }
   ],
   "source": [
    "current_time = gmtime()\n",
    "    \n",
    "hour   = int(strftime(\"%H\", current_time))\n",
    "minute = int(strftime(\"%M\", current_time))\n",
    "second = int(strftime(\"%S\", current_time))\n",
    "    \n",
    "# clock starts at 12 (90 degrees) and moves clock-wise\n",
    "def to_clock_angle(theta):\n",
    "    return -1 * (theta - 90)\n",
    "    \n",
    "exact_hour   = hour%12 + minute/60 + second/(60*60)\n",
    "exact_minute = minute  + second/60\n",
    "    \n",
    "short_hand_angle = to_clock_angle(360 * exact_hour/12)\n",
    "long_hand_angle  = to_clock_angle(360 * exact_minute/60)\n",
    "\n",
    "# hand of clock is linear function where slope is equal to tan(angle)\n",
    "def short_hand(x):\n",
    "    return tan(radians(short_hand_angle)) * x\n",
    "def long_hand(x):\n",
    "    return tan(radians(long_hand_angle)) * x\n",
    "\n",
    "# plot clock\n",
    "x_neg = np.linspace(-1, 0, 2)\n",
    "x_pos = np.linspace(0,  1, 2)\n",
    "\n",
    "print(\"Current Time: {}:{}:{}\".format(hour, minute, second))\n",
    "plt.figure(figsize=(5, 5)) \n",
    "plt.plot(x_pos             * (exact_hour   < 6.0)  + x_neg             * (exact_hour   >= 6.0), \n",
    "         short_hand(x_pos) * (exact_hour   < 6.0)  + short_hand(x_neg) * (exact_hour   >= 6.0),  \n",
    "         label = \"short hand\", linewidth = 2, color = \"blue\")\n",
    "plt.plot(x_pos             * (exact_minute < 30.0) + x_neg             * (exact_minute >= 30.0), \n",
    "         long_hand(x_pos)  * (exact_minute < 30.0) + long_hand(x_neg)  * (exact_minute >= 30.0), \n",
    "         label = \"long hand\",  linewidth = 3, color = \"red\")\n",
    "plt.xlim(-2, 2)\n",
    "plt.ylim(-2, 2)\n",
    "plt.legend()\n",
    "plt.show()"
   ]
  },
  {
   "cell_type": "markdown",
   "metadata": {},
   "source": [
    "### The activation function"
   ]
  },
  {
   "cell_type": "code",
   "execution_count": 4,
   "metadata": {},
   "outputs": [],
   "source": [
    "def my_activation(x):\n",
    "    \n",
    "    # get current time\n",
    "    global current_time\n",
    "    current_time = gmtime()\n",
    "    \n",
    "    hour   = int(strftime(\"%H\", current_time))\n",
    "    minute = int(strftime(\"%M\", current_time))\n",
    "    second = int(strftime(\"%S\", current_time))\n",
    "    \n",
    "    # clock hands\n",
    "    hour_hand_angle = (hour%12 + minute/60 + second/(60*60)) * 360/12\n",
    "    hour_hand = tan(radians(to_clock_angle(short_hand_angle)))\n",
    "    \n",
    "    minute_hand_angle  = (minute  + second/60) * 360/60\n",
    "    minute_hand  = tan(radians(to_clock_angle(long_hand_angle)))\n",
    "    \n",
    "    # which clock hand do I use?\n",
    "    above_threshold = minute_hand_angle * x * K.cast(x >= 0.0, \"float32\") # minute hand for positive\n",
    "    below_threshold = hour_hand_angle * x * K.cast(x < 0.0, \"float32\")    # hour hand for negative\n",
    "\n",
    "    return below_threshold + above_threshold"
   ]
  },
  {
   "cell_type": "markdown",
   "metadata": {},
   "source": [
    "### Load MNIST Data Set"
   ]
  },
  {
   "cell_type": "code",
   "execution_count": 5,
   "metadata": {},
   "outputs": [],
   "source": [
    "# Load data\n",
    "(X_train, y_train), (X_test, y_test) = keras.datasets.mnist.load_data()\n",
    "\n",
    "X_train = X_train.reshape(60000, 28*28).astype('float32') / 255\n",
    "X_test  = X_test.reshape(10000, 28*28).astype('float32') / 255\n",
    "\n",
    "y_train = keras.utils.np_utils.to_categorical(y_train, 10)\n",
    "y_test  = keras.utils.np_utils.to_categorical(y_test, 10)"
   ]
  },
  {
   "cell_type": "markdown",
   "metadata": {},
   "source": [
    "### Train model"
   ]
  },
  {
   "cell_type": "code",
   "execution_count": 6,
   "metadata": {},
   "outputs": [
    {
     "ename": "KeyboardInterrupt",
     "evalue": "",
     "output_type": "error",
     "traceback": [
      "\u001b[0;31m---------------------------------------------------------------------------\u001b[0m",
      "\u001b[0;31mKeyboardInterrupt\u001b[0m                         Traceback (most recent call last)",
      "\u001b[0;32m<ipython-input-6-29247c50e7a4>\u001b[0m in \u001b[0;36m<module>\u001b[0;34m()\u001b[0m\n\u001b[1;32m      5\u001b[0m \u001b[0;34m\u001b[0m\u001b[0m\n\u001b[1;32m      6\u001b[0m     \u001b[0;31m# wait 30 minutes\u001b[0m\u001b[0;34m\u001b[0m\u001b[0;34m\u001b[0m\u001b[0m\n\u001b[0;32m----> 7\u001b[0;31m     \u001b[0mtime\u001b[0m\u001b[0;34m.\u001b[0m\u001b[0msleep\u001b[0m\u001b[0;34m(\u001b[0m\u001b[0;34m(\u001b[0m\u001b[0;36m60\u001b[0m \u001b[0;34m-\u001b[0m \u001b[0mtime\u001b[0m\u001b[0;34m.\u001b[0m\u001b[0mtime\u001b[0m\u001b[0;34m(\u001b[0m\u001b[0;34m)\u001b[0m \u001b[0;34m%\u001b[0m \u001b[0;36m60\u001b[0m\u001b[0;34m)\u001b[0m \u001b[0;34m+\u001b[0m \u001b[0;36m60\u001b[0m\u001b[0;34m*\u001b[0m\u001b[0;36m29\u001b[0m\u001b[0;34m)\u001b[0m\u001b[0;34m\u001b[0m\u001b[0m\n\u001b[0m\u001b[1;32m      8\u001b[0m \u001b[0;34m\u001b[0m\u001b[0m\n\u001b[1;32m      9\u001b[0m     \u001b[0;31m# Save the current time at the beginning of every epoch.\u001b[0m\u001b[0;34m\u001b[0m\u001b[0;34m\u001b[0m\u001b[0m\n",
      "\u001b[0;31mKeyboardInterrupt\u001b[0m: "
     ]
    }
   ],
   "source": [
    "iteration = 1\n",
    "\n",
    "# run model 24 times\n",
    "while(iteration < 25):\n",
    "\n",
    "    # wait 30 minutes\n",
    "    time.sleep(30 * 60)\n",
    "    \n",
    "    # Save the current time at the beginning of every epoch.\n",
    "    json_log = open('logs/log_'+str(iteration)+'.json', mode='w', buffering=1)\n",
    "    json_logging_callback = keras.callbacks.LambdaCallback(\n",
    "        on_epoch_end=lambda epoch, logs: json_log.write(\n",
    "            json.dumps({'epoch': epoch, \n",
    "                        'loss': logs.get('loss'), \n",
    "                        'val_loss': logs.get('val_loss'), \n",
    "                        'time': strftime(\"%H:%M:%S\", gmtime())}) + '\\n'),\n",
    "        on_train_end=lambda logs: json_log.close()\n",
    "    )\n",
    "    \n",
    "    # Build model\n",
    "    model = keras.models.Sequential([\n",
    "        keras.layers.Dense(32, input_shape=(784,), activation = my_activation),\n",
    "        keras.layers.Dense(10, activation = 'softmax')\n",
    "    ])\n",
    "\n",
    "    model.compile(loss = 'categorical_crossentropy', optimizer = 'nadam')\n",
    "\n",
    "    hist = model.fit(X_train, y_train, \n",
    "                     batch_size = 128, epochs = 50, \n",
    "                     verbose = 2, validation_data = (X_test, y_test),\n",
    "                     callbacks = [json_logging_callback])\n",
    "    \n",
    "    iteration += 1"
   ]
  },
  {
   "cell_type": "code",
   "execution_count": null,
   "metadata": {},
   "outputs": [],
   "source": []
  }
 ],
 "metadata": {
  "kernelspec": {
   "display_name": "Python 3",
   "language": "python",
   "name": "python3"
  },
  "language_info": {
   "codemirror_mode": {
    "name": "ipython",
    "version": 3
   },
   "file_extension": ".py",
   "mimetype": "text/x-python",
   "name": "python",
   "nbconvert_exporter": "python",
   "pygments_lexer": "ipython3",
   "version": "3.5.2"
  }
 },
 "nbformat": 4,
 "nbformat_minor": 2
}
